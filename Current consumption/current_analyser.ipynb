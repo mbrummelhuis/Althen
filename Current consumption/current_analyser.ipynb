{
 "cells": [
  {
   "cell_type": "code",
   "execution_count": 14,
   "metadata": {},
   "outputs": [],
   "source": [
    "import pandas as pd\n",
    "import datetime"
   ]
  },
  {
   "cell_type": "code",
   "execution_count": 15,
   "metadata": {},
   "outputs": [
    {
     "name": "stdout",
     "output_type": "stream",
     "text": [
      "            Date      Time     mA\n",
      "0     2022-05-25  12:15:01  0.020\n",
      "1     2022-05-25  12:15:02  0.018\n",
      "2     2022-05-25  12:15:03  0.019\n",
      "3     2022-05-25  12:15:04  0.019\n",
      "4     2022-05-25  12:15:05  0.018\n",
      "...          ...       ...    ...\n",
      "3641  2022-05-25  13:15:42  0.019\n",
      "3642  2022-05-25  13:15:43  0.019\n",
      "3643  2022-05-25  13:15:44  0.020\n",
      "3644  2022-05-25  13:15:45  0.018\n",
      "3645  2022-05-25  13:15:46  0.020\n",
      "\n",
      "[3646 rows x 3 columns]\n",
      "          Date      Time      A\n",
      "0   2022-05-25  12:09:03  0.019\n",
      "1   2022-05-25  12:09:04  0.019\n",
      "2   2022-05-25  12:09:05  0.018\n",
      "3   2022-05-25  12:09:06  0.018\n",
      "4   2022-05-25  12:09:07  0.039\n",
      "5   2022-05-25  12:09:08  0.030\n",
      "6   2022-05-25  12:09:09  0.039\n",
      "7   2022-05-25  12:09:10  0.043\n",
      "8   2022-05-25  12:09:11  0.052\n",
      "9   2022-05-25  12:09:12  0.058\n",
      "10  2022-05-25  12:09:13  0.054\n",
      "11  2022-05-25  12:09:14  0.056\n",
      "12  2022-05-25  12:09:15  0.051\n",
      "13  2022-05-25  12:09:16  0.059\n",
      "14  2022-05-25  12:09:17  0.053\n",
      "15  2022-05-25  12:09:18  0.054\n",
      "16  2022-05-25  12:09:19  0.052\n",
      "17  2022-05-25  12:09:20  0.060\n",
      "18  2022-05-25  12:09:21  0.052\n",
      "19  2022-05-25  12:09:22  0.058\n",
      "20  2022-05-25  12:09:23  0.061\n",
      "21  2022-05-25  12:09:24  0.062\n",
      "22  2022-05-25  12:09:25  0.063\n",
      "23  2022-05-25  12:09:26  0.060\n",
      "24  2022-05-25  12:09:27  0.064\n",
      "25  2022-05-25  12:09:28  0.059\n",
      "26  2022-05-25  12:09:29  0.064\n",
      "27  2022-05-25  12:09:30  0.061\n",
      "28  2022-05-25  12:09:31  0.061\n",
      "29  2022-05-25  12:09:32  0.063\n",
      "30  2022-05-25  12:09:33  0.059\n",
      "31  2022-05-25  12:09:34  0.064\n",
      "32  2022-05-25  12:09:35  0.060\n",
      "33  2022-05-25  12:09:36  0.062\n",
      "34  2022-05-25  12:09:37  0.062\n",
      "35  2022-05-25  12:09:38  0.060\n",
      "36  2022-05-25  12:09:39  0.065\n",
      "37  2022-05-25  12:09:40  0.028\n",
      "38  2022-05-25  12:09:41  0.020\n",
      "39  2022-05-25  12:09:42  0.019\n"
     ]
    }
   ],
   "source": [
    "filename_stat = \"Current_1hr.CSV\"\n",
    "filename_msg = \"Current_msg.CSV\"\n",
    "column_names = [\"Number\", \"Date\", \"Time\", \"ms\", \"mA\", \"Temp\", \"A\", \"del1\", \"del2\", \"del3\", \"del4\"]\n",
    "stat_df = pd.read_csv(filename_stat,delimiter=',',header=31,names=column_names)\n",
    "stat_df = stat_df.drop(columns=[\"Number\", \"ms\",\"del1\", \"Temp\", \"A\", \"del2\", \"del3\", \"del4\"])\n",
    "print(stat_df)\n",
    "\n",
    "column_names = [\"Number\", \"Date\", \"Time\", \"ms\", \"A\", \"Temp\", \"mA\", \"del1\", \"del2\", \"del3\", \"del4\"]\n",
    "msg_df = pd.read_csv(filename_msg,delimiter=',',header=32,names=column_names)\n",
    "msg_df = msg_df.drop(columns=[\"Number\", \"ms\", \"Temp\", \"mA\", \"del1\", \"del2\", \"del3\", \"del4\"])\n",
    "print(msg_df)\n",
    "\n",
    "#Battery settings\n",
    "msgs_per_day = 24\n",
    "mAh_cell = 3500\n",
    "cells = 4\n"
   ]
  },
  {
   "cell_type": "code",
   "execution_count": 16,
   "metadata": {},
   "outputs": [
    {
     "name": "stdout",
     "output_type": "stream",
     "text": [
      "Device uses approximately  0.4587266739846322 mAh/day\n",
      "Device uses approximately  0.01911361141602634 mAh/hour\n"
     ]
    }
   ],
   "source": [
    "# Find mAh/day\n",
    "format = \"%Y-%m-%d %H:%M:%S\"\n",
    "date_start = stat_df.loc[1,\"Date\"]\n",
    "time_start = stat_df.loc[1,\"Time\"]\n",
    "start_dt = date_start + \" \" + time_start\n",
    "start_dt = datetime.datetime.strptime(start_dt, format)\n",
    "\n",
    "date_end = stat_df.loc[len(stat_df)-1,\"Date\"]\n",
    "time_end = stat_df.loc[len(stat_df)-1,\"Time\"]\n",
    "end_dt = date_end + \" \" + time_end\n",
    "end_dt = datetime.datetime.strptime(end_dt, format)\n",
    "\n",
    "delta_t = end_dt - start_dt\n",
    "\n",
    "mAh = stat_df[\"mA\"].sum()/delta_t.seconds\n",
    "total_mAh_per_day = mAh*24\n",
    "print(\"Device uses approximately \", total_mAh_per_day, \"mAh/day\")\n",
    "print(\"Device uses approximately \", total_mAh_per_day/24, \"mAh/hour\")\n"
   ]
  },
  {
   "cell_type": "code",
   "execution_count": 17,
   "metadata": {},
   "outputs": [
    {
     "name": "stdout",
     "output_type": "stream",
     "text": [
      "One message takes:  0.5280416666666666 mAh\n",
      "Estimated power consumption per day:  13.13172667398463  mAh\n",
      "Estimated lifetime with specified batteries:  1066.1202709720965  days\n",
      "Or  2.9208774547180725  years\n"
     ]
    }
   ],
   "source": [
    "# Find mAh/msg\n",
    "\n",
    "format = \"%Y-%m-%d %H:%M:%S\"\n",
    "date_start = msg_df.loc[1,\"Date\"]\n",
    "time_start = msg_df.loc[1,\"Time\"]\n",
    "start_dt = date_start + \" \" + time_start\n",
    "start_dt = datetime.datetime.strptime(start_dt, format)\n",
    "\n",
    "date_end = msg_df.loc[len(msg_df)-1,\"Date\"]\n",
    "time_end = msg_df.loc[len(msg_df)-1,\"Time\"]\n",
    "end_dt = date_end + \" \" + time_end\n",
    "end_dt = datetime.datetime.strptime(end_dt, format)\n",
    "\n",
    "delta_t = end_dt - start_dt\n",
    "\n",
    "mean_A = msg_df[\"A\"].mean()\n",
    "As = mean_A * delta_t.seconds\n",
    "total_mAh_per_msg = As/3.6\n",
    "\n",
    "\n",
    "print(\"One message takes: \", total_mAh_per_msg, \"mAh\")\n",
    "mAh_day = total_mAh_per_day + msgs_per_day*total_mAh_per_msg\n",
    "lifetime = mAh_cell*cells / mAh_day\n",
    "print(\"Estimated power consumption per day: \", mAh_day, \" mAh\")\n",
    "print(\"Estimated lifetime with specified batteries: \", lifetime, \" days\")\n",
    "print(\"Or \", lifetime/365, \" years\")"
   ]
  }
 ],
 "metadata": {
  "interpreter": {
   "hash": "5c94616498fd62139a50969a4915bf30299b2de3479bc161db3f5b17dd7af499"
  },
  "kernelspec": {
   "display_name": "Python 3.10.1 64-bit",
   "language": "python",
   "name": "python3"
  },
  "language_info": {
   "codemirror_mode": {
    "name": "ipython",
    "version": 3
   },
   "file_extension": ".py",
   "mimetype": "text/x-python",
   "name": "python",
   "nbconvert_exporter": "python",
   "pygments_lexer": "ipython3",
   "version": "3.10.1"
  },
  "orig_nbformat": 4
 },
 "nbformat": 4,
 "nbformat_minor": 2
}
